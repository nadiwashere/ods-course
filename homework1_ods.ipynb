{
  "nbformat": 4,
  "nbformat_minor": 0,
  "metadata": {
    "colab": {
      "name": "homework1-ods.ipynb",
      "provenance": [],
      "collapsed_sections": [],
      "authorship_tag": "ABX9TyPUlcfVzRxhGhrn7Y9dC8FT",
      "include_colab_link": true
    },
    "kernelspec": {
      "name": "python3",
      "display_name": "Python 3"
    },
    "language_info": {
      "name": "python"
    }
  },
  "cells": [
    {
      "cell_type": "markdown",
      "metadata": {
        "id": "view-in-github",
        "colab_type": "text"
      },
      "source": [
        "<a href=\"https://colab.research.google.com/github/nadiwashere/ods-course/blob/main/homework1_ods.ipynb\" target=\"_parent\"><img src=\"https://colab.research.google.com/assets/colab-badge.svg\" alt=\"Open In Colab\"/></a>"
      ]
    },
    {
      "cell_type": "markdown",
      "source": [
        "Задание с таблицей Менделеева (четвертое)"
      ],
      "metadata": {
        "id": "EYTqvDGuaN90"
      }
    },
    {
      "cell_type": "code",
      "execution_count": null,
      "metadata": {
        "id": "TH9mjsMBAkP-"
      },
      "outputs": [],
      "source": [
        "import json\n",
        "periodic_table = json.load(open('periodic_table.json'))"
      ]
    },
    {
      "cell_type": "code",
      "source": [
        "file = open(\"import_file_3.txt\",'r')\n",
        "line = file.read()\n",
        "import re\n",
        "list = re.sub(r'([A-Z])', r' \\1', line).split()"
      ],
      "metadata": {
        "id": "8teRuUPWBGoZ"
      },
      "execution_count": null,
      "outputs": []
    },
    {
      "cell_type": "code",
      "source": [
        "output_file = open(\"output.txt\",\"w\")"
      ],
      "metadata": {
        "id": "UEZcKD5WD6RA"
      },
      "execution_count": null,
      "outputs": []
    },
    {
      "cell_type": "code",
      "source": [
        "for i in range(0, len(list)):\n",
        "  output_file.write(periodic_table[list[i]])"
      ],
      "metadata": {
        "id": "6Yq-TTABCuPY"
      },
      "execution_count": null,
      "outputs": []
    },
    {
      "cell_type": "code",
      "source": [
        "file.close()\n",
        "output_file.close()"
      ],
      "metadata": {
        "id": "QZPm4qL4D5tf"
      },
      "execution_count": null,
      "outputs": []
    },
    {
      "cell_type": "markdown",
      "source": [
        "Первое задание на сумму чисел"
      ],
      "metadata": {
        "id": "T-TaL6n5aV6U"
      }
    },
    {
      "cell_type": "code",
      "source": [
        "a = 3 \n",
        "sum = 0 \n",
        "while a <=1_000_000_002: \n",
        "  if(a%10 != 4 and a%10 != 7): \n",
        "    sum += a \n",
        "    a+=3\n",
        "print(sum)"
      ],
      "metadata": {
        "id": "3OYn-1GMaMxh"
      },
      "execution_count": null,
      "outputs": []
    },
    {
      "cell_type": "markdown",
      "source": [
        "второе задание про арифметические операции"
      ],
      "metadata": {
        "id": "oJCLwpFMbMGu"
      }
    },
    {
      "cell_type": "code",
      "source": [
        "def get_numbers(string):\n",
        "  list = string.split()\n",
        "  numbers = []\n",
        "  for i in range(0,2):\n",
        "      numbers.append(int(list[i]))\n",
        "  return numbers"
      ],
      "metadata": {
        "id": "KNtL6WUIaM9T"
      },
      "execution_count": null,
      "outputs": []
    },
    {
      "cell_type": "code",
      "source": [
        "for i in range(0,3000):\n",
        "  list_strings.append(file1.readline())\n",
        "  iterators_strings.append(file2.readline())\n",
        "\n",
        "for i in range(0,3000):\n",
        "  if(list_strings[i][0]=='+'):\n",
        "    numbers = get_numbers(list_strings[i])\n",
        "    result = str(numbers[0]+numbers[1]) + \",\"\n",
        "    file2.write(result)\n",
        "  elif(list_strings[i][0]==\"-\"):\n",
        "    numbers = get_numbers(list_strings[i])\n",
        "    result = str(numbers[0]-numbers[1]) + \",\"\n",
        "    file2.write(result)\n",
        "  elif(list_strings[i][0]==\"*\" and list_strings[i][1]==\" \"):\n",
        "    numbers = get_numbers(list_strings[i])\n",
        "    result = str(numbers[0]*numbers[1]) + \",\"\n",
        "    file2.write(result)\n",
        "  elif(list_strings[i][0]==\"/\"):\n",
        "    numbers = get_numbers(list_strings[i])\n",
        "    result = str(numbers[0]//numbers[1]) + \",\"\n",
        "    file2.write(result)\n",
        "  elif(list_strings[i][0]==\"%\"):\n",
        "    numbers = get_numbers(list_strings[i])\n",
        "    result = str(numbers[0]%numbers[1]) + \",\"\n",
        "    file2.write(result)\n",
        "  elif(list_strings[i][0]==\"*\" and list_strings[i][1]==\"*\"):\n",
        "    numbers = get_numbers(list_strings[i])\n",
        "    result = str(numbers[0]**numbers[1]) + \",\"\n",
        "    file2.write(result)\n",
        "file1.close()\n",
        "file2.close()"
      ],
      "metadata": {
        "id": "WV45EcmNaNAs"
      },
      "execution_count": null,
      "outputs": []
    },
    {
      "cell_type": "markdown",
      "source": [
        "третье задание про подстроки"
      ],
      "metadata": {
        "id": "xXE_zly8bROW"
      }
    },
    {
      "cell_type": "code",
      "source": [
        "def get_numbers(string):\n",
        "  list = string.split()\n",
        "  numbers = []\n",
        "  for i in range(0,2):\n",
        "      numbers.append(int(list[i]))\n",
        "  return numbers"
      ],
      "metadata": {
        "id": "L7fB_ovBbUrM"
      },
      "execution_count": null,
      "outputs": []
    },
    {
      "cell_type": "code",
      "source": [
        "file1 = open(\"import_file_2_1.txt\", \"r\")\n",
        "file2 = open(\"import_file_2_2.txt\", \"r\")\n",
        "file3 = open(\"output.txt\", \"w\")\n",
        "list_strings = []\n",
        "iterators_strings = []\n",
        "\n",
        "for i in range(0,3000):\n",
        "  list_strings.append(file1.readline())\n",
        "  iterators_strings.append(file2.readline())"
      ],
      "metadata": {
        "id": "J3V1DJrDbU2D"
      },
      "execution_count": null,
      "outputs": []
    },
    {
      "cell_type": "code",
      "source": [
        "for i in range(0,3000):\n",
        "  numbers = get_numbers(iterators_strings[i])\n",
        "  n1 = numbers[0]\n",
        "  n2 = numbers[1]+1\n",
        "  result = list_strings[i][n1:n2]+' '\n",
        "  file3.write(result)\n",
        "file1.close()\n",
        "file2.close()\n",
        "file3.close()"
      ],
      "metadata": {
        "id": "zKF_592ZbU5T"
      },
      "execution_count": null,
      "outputs": []
    },
    {
      "cell_type": "code",
      "source": [
        "# Считать из файла\n",
        "with open('output.txt') as f:\n",
        "  text = f.read() \n",
        "\n",
        "# Записать в файл\n",
        "with open('output.txt', mode='w') as f:\n",
        "  length = len(text)\n",
        "  text = text[:length-1]\n",
        "  f.write(text)"
      ],
      "metadata": {
        "id": "8-WKlnvpbU8x"
      },
      "execution_count": null,
      "outputs": []
    }
  ]
}